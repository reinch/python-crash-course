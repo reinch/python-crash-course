{
 "cells": [
  {
   "cell_type": "code",
   "execution_count": 14,
   "id": "a8e53b2c-e6ac-4061-baff-00a5c58d4f03",
   "metadata": {},
   "outputs": [
    {
     "name": "stdout",
     "output_type": "stream",
     "text": [
      "hello python world!\n"
     ]
    }
   ],
   "source": [
    "#hello_world.py\n",
    "print (\"hello python world!\")"
   ]
  },
  {
   "cell_type": "code",
   "execution_count": 16,
   "id": "f69ec8a9-ccca-46d6-809c-631c3e477068",
   "metadata": {},
   "outputs": [
    {
     "name": "stdout",
     "output_type": "stream",
     "text": [
      "Hello Python World!\n"
     ]
    }
   ],
   "source": [
    "#\n",
    "message = \"Hello Python World!\"\n",
    "print(message)"
   ]
  },
  {
   "cell_type": "code",
   "execution_count": 18,
   "id": "3b6f9ed8-1362-431a-a315-01b6981ec9e8",
   "metadata": {},
   "outputs": [
    {
     "name": "stdout",
     "output_type": "stream",
     "text": [
      "hello python crash course reader!\n"
     ]
    }
   ],
   "source": [
    "#\n",
    "message = \"hello python crash course reader!\"\n",
    "print(mesage)"
   ]
  },
  {
   "cell_type": "code",
   "execution_count": 19,
   "id": "a7cea5df-76d6-4204-a05d-3c50de7ff41c",
   "metadata": {},
   "outputs": [
    {
     "name": "stdout",
     "output_type": "stream",
     "text": [
      "hello python crash course reader!\n"
     ]
    }
   ],
   "source": [
    "#\n",
    "mesage = \"hello python crash course reader!\"\n",
    "print(mesage)"
   ]
  },
  {
   "cell_type": "code",
   "execution_count": 20,
   "id": "c2363b1b-12e3-4814-acff-771ac42cfa0e",
   "metadata": {},
   "outputs": [
    {
     "name": "stdout",
     "output_type": "stream",
     "text": [
      "Simple Message V1\n"
     ]
    }
   ],
   "source": [
    "#\n",
    "message_v1 = \"Simple Message V1\"\n",
    "print(message_v1)"
   ]
  },
  {
   "cell_type": "code",
   "execution_count": 21,
   "id": "e6e46581-4b6c-4c09-8f1f-fec7bf9b6a62",
   "metadata": {},
   "outputs": [
    {
     "name": "stdout",
     "output_type": "stream",
     "text": [
      "Message Variable V2\n",
      "Same Message Variable V2 But Changed\n"
     ]
    }
   ],
   "source": [
    "#\n",
    "message_v2 = \"Message Variable V2\"\n",
    "print(message_v2)\n",
    "message_v2 = \"Same Message Variable V2 But Changed\"\n",
    "print(message_v2)"
   ]
  },
  {
   "cell_type": "code",
   "execution_count": 22,
   "id": "32806fa9-2640-464f-8eff-346981357ed7",
   "metadata": {},
   "outputs": [
    {
     "name": "stdout",
     "output_type": "stream",
     "text": [
      "Ada Lovelace\n"
     ]
    }
   ],
   "source": [
    "#\n",
    "name = \"ada lovelace\"\n",
    "print(name.title())"
   ]
  },
  {
   "cell_type": "code",
   "execution_count": 23,
   "id": "9a086853-0461-4863-84a9-4bf1b71ef9f2",
   "metadata": {},
   "outputs": [
    {
     "name": "stdout",
     "output_type": "stream",
     "text": [
      "ADA LOVELACE\n",
      "ada lovelace\n"
     ]
    }
   ],
   "source": [
    "#\n",
    "name = \"Ada Lovelace\"\n",
    "print(name.upper())\n",
    "print(name.lower())"
   ]
  },
  {
   "cell_type": "code",
   "execution_count": 26,
   "id": "489ff332-7ca5-4f4b-bd07-d2c95ca5cd69",
   "metadata": {},
   "outputs": [
    {
     "name": "stdout",
     "output_type": "stream",
     "text": [
      "Ada Lovelace\n"
     ]
    }
   ],
   "source": [
    "#full_name.py\n",
    "first_name = \"Ada\"\n",
    "last_name = \"Lovelace\"\n",
    "full_name = f\"{first_name} {last_name}\"\n",
    "print(full_name)"
   ]
  },
  {
   "cell_type": "code",
   "execution_count": 27,
   "id": "b1b5446d-d574-422d-883d-69bc7b546a7c",
   "metadata": {},
   "outputs": [
    {
     "name": "stdout",
     "output_type": "stream",
     "text": [
      "Hello, Ada Lovelace!\n"
     ]
    }
   ],
   "source": [
    "#\n",
    "first_name = \"ada\"\n",
    "last_name = \"lovelace\"\n",
    "full_name = f\"{first_name} {last_name}\"\n",
    "print(f\"Hello, {full_name.title()}!\")"
   ]
  },
  {
   "cell_type": "code",
   "execution_count": 30,
   "id": "3ab0d0f0-6471-450d-a802-251a817cd071",
   "metadata": {},
   "outputs": [
    {
     "name": "stdout",
     "output_type": "stream",
     "text": [
      "Hello, Ada Lovelace!\n"
     ]
    }
   ],
   "source": [
    "#\n",
    "first_name = \"ada\"\n",
    "last_name = \"lovelace\"\n",
    "full_name = f\"{first_name} {last_name}\"\n",
    "message = f\"Hello, {full_name.title()}!\"\n",
    "print(message)"
   ]
  },
  {
   "cell_type": "code",
   "execution_count": 34,
   "id": "a60eac44-172b-473b-941b-ffaa8bccc9c1",
   "metadata": {},
   "outputs": [
    {
     "name": "stdout",
     "output_type": "stream",
     "text": [
      "Python\n",
      "\tPython\n"
     ]
    }
   ],
   "source": [
    "#whitespace tabs\n",
    "print(\"Python\")\n",
    "print(\"\\tPython\")"
   ]
  },
  {
   "cell_type": "code",
   "execution_count": 35,
   "id": "38e72b22-6016-4b5a-b806-6d1a2dd7189e",
   "metadata": {},
   "outputs": [
    {
     "name": "stdout",
     "output_type": "stream",
     "text": [
      "Languages:\n",
      "Python\n",
      "C\n",
      "JavaScript\n"
     ]
    }
   ],
   "source": [
    "#whitespace newlines\n",
    "print(\"Languages:\\nPython\\nC\\nJavaScript\")"
   ]
  },
  {
   "cell_type": "code",
   "execution_count": 9,
   "id": "6937e9be-6017-4642-87cf-98f3f9dce432",
   "metadata": {},
   "outputs": [
    {
     "name": "stdout",
     "output_type": "stream",
     "text": [
      "python \n",
      "python\n",
      "python \n"
     ]
    }
   ],
   "source": [
    "#rstrip() for cutting space at right\n",
    "favorite_language = \"python \"\n",
    "print(favorite_language)\n",
    "print(favorite_language.rstrip())\n",
    "print(favorite_language)"
   ]
  },
  {
   "cell_type": "code",
   "execution_count": 7,
   "id": "ea7a6e49-ef85-4554-9e4b-77a24ff65958",
   "metadata": {},
   "outputs": [
    {
     "name": "stdout",
     "output_type": "stream",
     "text": [
      "python\n"
     ]
    }
   ],
   "source": [
    "favorite_language = \"python \"\n",
    "favorite_language = favorite_language.rstrip()\n",
    "print(favorite_language)"
   ]
  },
  {
   "cell_type": "code",
   "execution_count": 8,
   "id": "74375c33-ae98-4189-97fb-0affc2716ed0",
   "metadata": {},
   "outputs": [
    {
     "name": "stdout",
     "output_type": "stream",
     "text": [
      " python\n",
      "python \n",
      "python\n"
     ]
    }
   ],
   "source": [
    "#rstrip() for right lstrip() for left strip() for both sides\n",
    "favorite_language = \" python \"\n",
    "print(favorite_language.rstrip())\n",
    "print(favorite_language.lstrip())\n",
    "print(favorite_language.strip())"
   ]
  },
  {
   "cell_type": "code",
   "execution_count": 12,
   "id": "a8cf654f-4648-4494-97d9-def02a6bdd60",
   "metadata": {},
   "outputs": [
    {
     "data": {
      "text/plain": [
       "'python'"
      ]
     },
     "execution_count": 12,
     "metadata": {},
     "output_type": "execute_result"
    }
   ],
   "source": [
    "favorite_language = 'python '\n",
    "favorite_language = favorite_language.rstrip()\n",
    "favorite_language"
   ]
  },
  {
   "cell_type": "code",
   "execution_count": 13,
   "id": "440f0e64-fe9d-4507-97e1-c5b53a452f8b",
   "metadata": {},
   "outputs": [
    {
     "data": {
      "text/plain": [
       "'python'"
      ]
     },
     "execution_count": 13,
     "metadata": {},
     "output_type": "execute_result"
    }
   ],
   "source": [
    "favorite_language = ' python '\n",
    "favorite_language.rstrip()\n",
    "favorite_language.lstrip()\n",
    "favorite_language.strip()"
   ]
  },
  {
   "cell_type": "code",
   "execution_count": 11,
   "id": "8b0389d4-e95d-45d0-9103-5d62761388fb",
   "metadata": {},
   "outputs": [
    {
     "data": {
      "text/plain": [
       "'nostarch.com'"
      ]
     },
     "execution_count": 11,
     "metadata": {},
     "output_type": "execute_result"
    }
   ],
   "source": [
    "nostarch_url = 'https://nostarch.com'\n",
    "nostarch_url.removeprefix('https://')"
   ]
  },
  {
   "cell_type": "code",
   "execution_count": 14,
   "id": "1ad6077c-6315-4ced-be40-57313e0ae855",
   "metadata": {},
   "outputs": [
    {
     "name": "stdout",
     "output_type": "stream",
     "text": [
      "One of Python's stengths is its diverse community\n"
     ]
    }
   ],
   "source": [
    "#aposthrope.py\n",
    "message = \"One of Python's stengths is its diverse community\"\n",
    "print(message)"
   ]
  },
  {
   "cell_type": "code",
   "execution_count": 15,
   "id": "79c8df33-dcc3-4ab6-ad88-5ef0e2325e42",
   "metadata": {},
   "outputs": [
    {
     "ename": "SyntaxError",
     "evalue": "unterminated string literal (detected at line 1) (864911944.py, line 1)",
     "output_type": "error",
     "traceback": [
      "  \u001b[36mCell\u001b[39m\u001b[36m \u001b[39m\u001b[32mIn[15]\u001b[39m\u001b[32m, line 1\u001b[39m\n\u001b[31m    \u001b[39m\u001b[31mmessage = 'One of Python's strengths is its diverse community.'\u001b[39m\n                                                                  ^\n\u001b[31mSyntaxError\u001b[39m\u001b[31m:\u001b[39m unterminated string literal (detected at line 1)\n"
     ]
    }
   ],
   "source": [
    " message = 'One of Python's strengths is its diverse community.'\n",
    " print(message)"
   ]
  },
  {
   "cell_type": "code",
   "execution_count": null,
   "id": "2f209d1f-6fe4-408c-b889-166d0e36dba5",
   "metadata": {},
   "outputs": [],
   "source": []
  }
 ],
 "metadata": {
  "kernelspec": {
   "display_name": "Python 3 (ipykernel)",
   "language": "python",
   "name": "python3"
  },
  "language_info": {
   "codemirror_mode": {
    "name": "ipython",
    "version": 3
   },
   "file_extension": ".py",
   "mimetype": "text/x-python",
   "name": "python",
   "nbconvert_exporter": "python",
   "pygments_lexer": "ipython3",
   "version": "3.13.2"
  }
 },
 "nbformat": 4,
 "nbformat_minor": 5
}

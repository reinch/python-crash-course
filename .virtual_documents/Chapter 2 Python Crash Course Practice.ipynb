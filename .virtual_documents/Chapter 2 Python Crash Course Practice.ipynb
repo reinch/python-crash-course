#2-3 Personal Massage Case Using F-String
name = "Rey"
message = f"Hello {name}, would you like to learn some Python today?"
print(message)


#2-4 Namge Case Using Upper Lower and title
name = "Rey"
print(name.upper())
print(name.lower())
print(name.title())





#2-6 Famous Quote 2 Using Var and message

famous_person = "Sun Tzu"
message = "To kniw your Enemy, you must become your Enemy"
print(f"{famous_person} once said {message}")


#-7 Stripping Names Case

name = " Rey "
print(name)
print(name.lstrip())
print(name.rstrip())
print(name.strip())


#2-8 File Extention Case Using removesuffix()

extensions = "python_notes.txt"
print(extensions.removesuffix(".txt"))


2+3


3-2


2*2


3/2


3 ** 2


3 ** 3


10 ** 6


2+3*4


(2+3)*4


0.1 + 0.1


0.2 + 0.2


2 * 0.1


2 * 0.2


0.2 + 0.1


3 * 0.1


4/2


1 + 2.0


2 * 3.0


3.0 ** 2


universe_age = 14_000_000_000


print(universe_age)


x, y, z = 0, 0, 0


MAX_CONNECTIONS = 5000


#2-9 Number Eight Case

print(4+4)
print(11-3)
print(4*2)
print(64/8)


#Favorite Number Case

fav = 8
message = "My Favorite Number Issss = "
print (f"{message}{fav}")


# comment.py
# Say hello to everyone.
print("Hello Python people!")


import this




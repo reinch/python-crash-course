#hello_world.py
print ("hello python world!")


#
message = "Hello Python World!"
print(message)


#
message = "hello python crash course reader!"
print(mesage)


#
mesage = "hello python crash course reader!"
print(mesage)


#
message_v1 = "Simple Message V1"
print(message_v1)


#
message_v2 = "Message Variable V2"
print(message_v2)
message_v2 = "Same Message Variable V2 But Changed"
print(message_v2)


#
name = "ada lovelace"
print(name.title())


#
name = "Ada Lovelace"
print(name.upper())
print(name.lower())


#full_name.py
first_name = "Ada"
last_name = "Lovelace"
full_name = f"{first_name} {last_name}"
print(full_name)


#
first_name = "ada"
last_name = "lovelace"
full_name = f"{first_name} {last_name}"
print(f"Hello, {full_name.title()}!")


#
first_name = "ada"
last_name = "lovelace"
full_name = f"{first_name} {last_name}"
message = f"Hello, {full_name.title()}!"
print(message)


#whitespace tabs
print("Python")
print("\tPython")


#whitespace newlines
print("Languages:\nPython\nC\nJavaScript")


#rstrip() for cutting space at right
favorite_language = "python "
print(favorite_language)
print(favorite_language.rstrip())
print(favorite_language)


favorite_language = "python "
favorite_language = favorite_language.rstrip()
print(favorite_language)


#rstrip() for right lstrip() for left strip() for both sides
favorite_language = " python "
print(favorite_language.rstrip())
print(favorite_language.lstrip())
print(favorite_language.strip())



